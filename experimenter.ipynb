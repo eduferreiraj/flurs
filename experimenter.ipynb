{
 "cells": [
  {
   "cell_type": "code",
   "execution_count": 1,
   "metadata": {
    "scrolled": true
   },
   "outputs": [
    {
     "name": "stderr",
     "output_type": "stream",
     "text": [
      "2019-03-25 15:30:53,991 : INFO : running D:\\Anaconda3\\envs\\recsys\\lib\\site-packages\\ipykernel_launcher.py -f C:\\Users\\Eduardo Ferreira\\AppData\\Roaming\\jupyter\\runtime\\kernel-25d0cedd-48f9-42b9-88d1-1d1b96c52418.json\n",
      "2019-03-25 15:30:53,997 : INFO : converting data into FluRS input object\n"
     ]
    }
   ],
   "source": [
    "from flurs.datasets import csv_loader\n",
    "from flurs.recommender import BRISMFRecommender, MFRecommender\n",
    "from flurs.forgetting import ForgetUnpopularItems, NoForgetting, MappedUserFactorFading, UserFactorFading, SDUserFactorFading\n",
    "from flurs.evaluator import Evaluator\n",
    "\n",
    "import logging\n",
    "import os\n",
    "import sys\n",
    "\n",
    "ML_PATH = 'D:\\\\recsys\\\\datasets\\\\MovieLens\\\\ml-1m\\\\ml-1m-gte.csv'\n",
    "EXP_NAME = \"M2\"\n",
    "RECALL_AT = 10\n",
    "\n",
    "program = os.path.basename(ML_PATH)\n",
    "logger = logging.getLogger(program)\n",
    "\n",
    "logging.basicConfig(format='%(asctime)s : %(levelname)s : %(message)s')\n",
    "logging.root.setLevel(level=logging.INFO)\n",
    "logger.info('running %s' % ' '.join(sys.argv))\n",
    "\n",
    "logging.info('converting data into FluRS input object')\n",
    "data = csv_loader(ML_PATH)"
   ]
  },
  {
   "cell_type": "code",
   "execution_count": 2,
   "metadata": {},
   "outputs": [],
   "source": [
    "class Experimenter:\n",
    "    def __init__(self):\n",
    "        self._recommenders = []\n",
    "        self.forgettings = []\n",
    "    def append(self, recommender_list, forgetting_list, parameters_list):\n",
    "        for f in forgetting_list:\n",
    "            self.forgettings.append(f.__name__)\n",
    "        for Recommender in recommender_list:\n",
    "            for p in parameters_list:\n",
    "                for Forgetting in forgetting_list:\n",
    "                    self._recommenders.append(Recommender(forgetting = Forgetting(alpha=p), learn_rate=.002, k=60))\n",
    "                    \n",
    "    def __getitem__(self, position):\n",
    "        return self._recommenders[position]\n",
    "    def forgetting_list(self):\n",
    "        return self.forgettings"
   ]
  },
  {
   "cell_type": "code",
   "execution_count": 3,
   "metadata": {},
   "outputs": [],
   "source": [
    "import numpy as np\n",
    "\n",
    "class Recall:\n",
    "    def __init__(self, n):\n",
    "        self.n = n\n",
    "        self.hits = 0\n",
    "        self.stream = 0 \n",
    "        self.r_mean = 0.0\n",
    "        self.recall_list = []\n",
    "    def update(self, rank):\n",
    "        if rank <= self.n:\n",
    "            self.hits += 1\n",
    "        self.stream += 1\n",
    "        recall = self.score()\n",
    "        self.recall_list.append(recall)\n",
    "        return recall\n",
    "    def score(self):\n",
    "        return self.hits/self.stream\n",
    "    def mean(self):\n",
    "        return np.mean(self.recall_list)"
   ]
  },
  {
   "cell_type": "code",
   "execution_count": 4,
   "metadata": {},
   "outputs": [],
   "source": [
    "experimenter = Experimenter()\n",
    "recommender_list = []\n",
    "recommender_list.append(MFRecommender)\n",
    "\n",
    "# [1.01, 1.1, 10, 100, 1000, 10000]\n",
    "# mean_pop = [-0.00040199748722443427, -0.0003777209117588382, -0.0003762619662848127, \n",
    "#             -0.0003814282091102922, -0.00038355540091335725, -0.0003867758902406115]\n",
    "# alpha = np.array([.9999, .99, .95, .9, .8])\n",
    "# alpha = alpha ** (1./np.mean(mean_pop))\n",
    "# print(\"Alphas: {}\".format(alpha))\n",
    "\n",
    "experimenter.append(recommender_list, [SDUserFactorFading], [1.08, 10, 100, 1000, 10000])\n",
    "experimenter.append(recommender_list, [ForgetUnpopularItems], [1.2, 10, 100, 1000, 10000])\n",
    "experimenter.append(recommender_list, [NoForgetting], [None])\n",
    "experimenter.append(recommender_list, [UserFactorFading], [.99, .95, .9, .85, .80])\n",
    "experimenter.append(recommender_list, [MappedUserFactorFading], [1.1, 10, 100, 1000, 10000])"
   ]
  },
  {
   "cell_type": "code",
   "execution_count": null,
   "metadata": {
    "scrolled": false
   },
   "outputs": [
    {
     "name": "stderr",
     "output_type": "stream",
     "text": [
      "2019-03-25 15:30:54,605 : INFO : initialize recommendation model MFRecommender with SDUserFactorFading\n",
      "2019-03-25 15:30:54,606 : INFO : batch pre-training before streaming input\n"
     ]
    }
   ],
   "source": [
    "experiments = {}\n",
    "for f in experimenter.forgetting_list():\n",
    "    experiments[f] = {}\n",
    "    experiments[f]['mean_recall'] = 0.0\n",
    "\n",
    "for rec in experimenter:\n",
    "    forgetting = rec.forgetting.__class__.__name__\n",
    "    logging.info('initialize recommendation model {} with {}'.format(rec.__class__.__name__, forgetting))\n",
    "    rec.initialize()\n",
    "    evaluator = Evaluator(rec, data.can_repeat)\n",
    "\n",
    "    n_batch_train = int(data.n_sample * 0.2)  # 20% for pre-training to avoid cold-start\n",
    "    n_batch_test = int(data.n_sample * 0.3)  # 30% for evaluation of pre-training\n",
    "    batch_tail = n_batch_train + n_batch_test\n",
    "\n",
    "    # pre-train\n",
    "    # 20% for batch training \n",
    "    batch_training = data.samples[:n_batch_train] \n",
    "    # 30% for batch evaluate\n",
    "    batch_test = data.samples[n_batch_train:batch_tail]\n",
    "    # after the batch training, 30% samples are used for incremental updating\n",
    "    \n",
    "    logging.info('batch pre-training before streaming input')\n",
    "    evaluator.fit(\n",
    "        batch_training,\n",
    "        batch_test,\n",
    "        max_n_epoch=20 \n",
    "    )\n",
    "    \n",
    "    recall = Recall(RECALL_AT)\n",
    "    \n",
    "    recommendations = evaluator.recommend(batch_test)\n",
    "    logging.info('measuring the recall@{} from the new model'.format(RECALL_AT))\n",
    "    # (top-1 score, rank, recommend_time)\n",
    "    for _, rank, _ in recommendations:\n",
    "        recall.update(rank)\n",
    "    mean = recall.mean() \n",
    "    logging.info('mean recall@{}: {}'.format(RECALL_AT,mean))\n",
    "    if mean > experiments[forgetting]['mean_recall']:\n",
    "        experiments[forgetting]['mean_recall'] = mean\n",
    "        experiments[forgetting]['evaluator'] = evaluator.evaluate(data.samples[batch_tail:])\n",
    "        experiments[forgetting]['recommender'] = rec.__class__.__name__\n",
    "        experiments[forgetting]['alpha'] = rec.forgetting.alpha\n",
    "        \n",
    "\n",
    "# 50% incremental evaluation and updating\n",
    "logging.info('incrementally predict, evaluate and update the recommender')    \n",
    "for forgetting in experiments:\n",
    "    logging.info('Recommender: {0}, Forgetting: {1}, Alpha: {2}, Mean Recall: {3:2f}'.format(\n",
    "        experiments[forgetting]['recommender'],\n",
    "        forgetting,\n",
    "        experiments[forgetting]['alpha'],\n",
    "        experiments[forgetting]['mean_recall']\n",
    "    ))"
   ]
  },
  {
   "cell_type": "code",
   "execution_count": null,
   "metadata": {},
   "outputs": [],
   "source": [
    "for forgetting in experiments:\n",
    "    evaluator = experiments[forgetting]['evaluator']\n",
    "    recommender = experiments[forgetting]['recommender']\n",
    "    param = str(experiments[forgetting]['alpha'])\n",
    "    filename = \"D:\\\\recsys\\\\flurs\\\\results\\\\{}_{}_{}_{}.dat\".format(recommender, forgetting, param, EXP_NAME)\n",
    "    logging.info(\"Abrindo arquivo {} ...\".format(filename))\n",
    "    with open(filename, 'w+') as f:\n",
    "        logging.info(\"Começando a gerar resultados ...\")\n",
    "        for instance in evaluator:\n",
    "            f.write(str(instance))\n",
    "    logging.info(\"Arquivo {} completo.\".format(filename))\n",
    "    "
   ]
  }
 ],
 "metadata": {
  "kernelspec": {
   "display_name": "Python 3",
   "language": "python",
   "name": "python3"
  },
  "language_info": {
   "codemirror_mode": {
    "name": "ipython",
    "version": 3
   },
   "file_extension": ".py",
   "mimetype": "text/x-python",
   "name": "python",
   "nbconvert_exporter": "python",
   "pygments_lexer": "ipython3",
   "version": "3.7.2"
  }
 },
 "nbformat": 4,
 "nbformat_minor": 2
}
