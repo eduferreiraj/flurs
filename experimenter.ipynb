{
 "cells": [
  {
   "cell_type": "code",
   "execution_count": 1,
   "metadata": {
    "scrolled": true
   },
   "outputs": [
    {
     "name": "stderr",
     "output_type": "stream",
     "text": [
      "2019-04-02 13:57:06,918 : INFO : running D:\\Anaconda3\\lib\\site-packages\\ipykernel_launcher.py -f C:\\Users\\Eduardo Ferreira\\AppData\\Roaming\\jupyter\\runtime\\kernel-8a6281d8-8bbe-42a2-8149-b59d1878c0d2.json\n",
      "2019-04-02 13:57:06,920 : INFO : converting data into FluRS input object\n"
     ]
    }
   ],
   "source": [
    "from flurs.datasets import csv_loader\n",
    "from flurs.recommender import BRISMFRecommender, MFRecommender\n",
    "from flurs.forgetting import ForgetUnpopularItems, NoForgetting, MappedUserFactorFading, UserFactorFading, SDUserFactorFading\n",
    "from flurs.evaluator import Evaluator\n",
    "\n",
    "import logging\n",
    "import os\n",
    "import sys\n",
    "\n",
    "# DATA_PATH = 'D:\\\\recsys\\\\datasets\\\\MovieLens\\\\ml-1m\\\\ml-1m-gte.csv'\n",
    "DATA_PATH = 'D:\\\\recsys\\\\datasets\\\\netflix\\\\positive_netflix_0K.csv'\n",
    "# DATA_PATH = 'D:\\\\recsys\\\\datasets\\\\palco\\\\music_listen_15K.csv'\n",
    "# DATA_PATH = 'D:\\\\recsys\\\\datasets\\\\palco\\\\music_playlist.csv'\n",
    "\n",
    "\n",
    "EXP_NAME = DATA_PATH.split(\"\\\\\")[-1].replace('.csv', '')\n",
    "RECALL_AT = 10\n",
    "\n",
    "program = os.path.basename(DATA_PATH)\n",
    "logger = logging.getLogger(program)\n",
    "\n",
    "logging.basicConfig(format='%(asctime)s : %(levelname)s : %(message)s')\n",
    "logging.root.setLevel(level=logging.INFO)\n",
    "logger.info('running %s' % ' '.join(sys.argv))\n",
    "\n",
    "logging.info('converting data into FluRS input object')\n",
    "data = csv_loader(DATA_PATH)"
   ]
  },
  {
   "cell_type": "code",
   "execution_count": 2,
   "metadata": {},
   "outputs": [],
   "source": [
    "class Experimenter:\n",
    "    def __init__(self):\n",
    "        self._recommenders = []\n",
    "        self.forgettings = []\n",
    "    def append(self, recommender_list, forgetting_list, parameters_list):\n",
    "        for f in forgetting_list:\n",
    "            self.forgettings.append(f.__name__)\n",
    "        for Recommender in recommender_list:\n",
    "            for p in parameters_list:\n",
    "                for Forgetting in forgetting_list:\n",
    "                    self._recommenders.append(Recommender(forgetting = Forgetting(alpha=p), learn_rate=.002, k=60))\n",
    "                    \n",
    "    def __getitem__(self, position):\n",
    "        return self._recommenders[position]\n",
    "    def forgetting_list(self):\n",
    "        return self.forgettings"
   ]
  },
  {
   "cell_type": "code",
   "execution_count": 3,
   "metadata": {},
   "outputs": [],
   "source": [
    "import numpy as np\n",
    "\n",
    "class Recall:\n",
    "    def __init__(self, n):\n",
    "        self.n = n\n",
    "        self.hits = 0\n",
    "        self.stream = 0 \n",
    "        self.r_mean = 0.0\n",
    "        self.recall_list = []\n",
    "    def update(self, rank):\n",
    "        if rank <= self.n:\n",
    "            self.hits += 1\n",
    "        self.stream += 1\n",
    "        recall = self.score()\n",
    "        self.recall_list.append(recall)\n",
    "        return recall\n",
    "    def score(self):\n",
    "        return self.hits/self.stream\n",
    "    def mean(self):\n",
    "        return np.mean(self.recall_list)"
   ]
  },
  {
   "cell_type": "code",
   "execution_count": 4,
   "metadata": {},
   "outputs": [],
   "source": [
    "experimenter = Experimenter()\n",
    "recommender_list = []\n",
    "recommender_list.append(MFRecommender)\n",
    "\n",
    "# [1.01, 1.1, 10, 100, 1000, 10000]\n",
    "# mean_pop = [-0.00040199748722443427, -0.0003777209117588382, -0.0003762619662848127, \n",
    "#             -0.0003814282091102922, -0.00038355540091335725, -0.0003867758902406115]\n",
    "# alpha = np.array([.9999, .99, .95, .9, .8])\n",
    "# alpha = alpha ** (1./np.mean(mean_pop))\n",
    "# print(\"Alphas: {}\".format(alpha))\n",
    "\n",
    "alpha = [ 1.1,   2.3,   6,  42, 382]\n",
    "\n",
    "experimenter.append(recommender_list, [ForgetUnpopularItems], [1.2, 2., 2.5, 4., 10])\n",
    "experimenter.append(recommender_list, [NoForgetting], [None])\n",
    "experimenter.append(recommender_list, [SDUserFactorFading], alpha)\n",
    "experimenter.append(recommender_list, [UserFactorFading], [.99, .95, .9, .85, .80])\n",
    "experimenter.append(recommender_list, [MappedUserFactorFading], alpha)"
   ]
  },
  {
   "cell_type": "code",
   "execution_count": 5,
   "metadata": {
    "scrolled": false
   },
   "outputs": [
    {
     "name": "stderr",
     "output_type": "stream",
     "text": [
      "2019-04-02 13:57:08,826 : INFO : initialize recommendation model MFRecommender with ForgetUnpopularItems\n",
      "2019-04-02 13:57:08,833 : INFO : batch pre-training before streaming input\n",
      "2019-04-02 14:01:56,523 : INFO : 6068 : Epochs:13 Convergence:0.00019732607649580736\n",
      "2019-04-02 14:01:56,523 : INFO : Epochs:13 Convergence:0.00019732607649580736\n"
     ]
    },
    {
     "name": "stdout",
     "output_type": "stream",
     "text": [
      "Alpha:1.2 Mean:0.779977\n"
     ]
    },
    {
     "name": "stderr",
     "output_type": "stream",
     "text": [
      "2019-04-02 14:02:09,780 : INFO : measuring the recall@10 from the new model\n",
      "2019-04-02 21:38:48,774 : INFO : mean recall@10: 0.0\n",
      "2019-04-02 21:38:48,774 : INFO : initialize recommendation model MFRecommender with ForgetUnpopularItems\n",
      "2019-04-02 21:38:48,784 : INFO : batch pre-training before streaming input\n",
      "2019-04-02 21:42:00,748 : INFO : 6068 : Epochs:9 Convergence:0.00011082920806404495\n",
      "2019-04-02 21:42:00,748 : INFO : Epochs:9 Convergence:0.00011082920806404495\n"
     ]
    },
    {
     "name": "stdout",
     "output_type": "stream",
     "text": [
      "Alpha:2.0 Mean:0.929298\n"
     ]
    },
    {
     "name": "stderr",
     "output_type": "stream",
     "text": [
      "2019-04-02 21:42:13,766 : INFO : measuring the recall@10 from the new model\n"
     ]
    },
    {
     "ename": "KeyboardInterrupt",
     "evalue": "",
     "output_type": "error",
     "traceback": [
      "\u001b[1;31m---------------------------------------------------------------------------\u001b[0m",
      "\u001b[1;31mKeyboardInterrupt\u001b[0m                         Traceback (most recent call last)",
      "\u001b[1;32m<ipython-input-5-36ad32ca3b80>\u001b[0m in \u001b[0;36m<module>\u001b[1;34m\u001b[0m\n\u001b[0;32m     33\u001b[0m     \u001b[0mlogging\u001b[0m\u001b[1;33m.\u001b[0m\u001b[0minfo\u001b[0m\u001b[1;33m(\u001b[0m\u001b[1;34m'measuring the recall@{} from the new model'\u001b[0m\u001b[1;33m.\u001b[0m\u001b[0mformat\u001b[0m\u001b[1;33m(\u001b[0m\u001b[0mRECALL_AT\u001b[0m\u001b[1;33m)\u001b[0m\u001b[1;33m)\u001b[0m\u001b[1;33m\u001b[0m\u001b[1;33m\u001b[0m\u001b[0m\n\u001b[0;32m     34\u001b[0m     \u001b[1;31m# (top-1 score, rank, recommend_time)\u001b[0m\u001b[1;33m\u001b[0m\u001b[1;33m\u001b[0m\u001b[1;33m\u001b[0m\u001b[0m\n\u001b[1;32m---> 35\u001b[1;33m     \u001b[1;32mfor\u001b[0m \u001b[0m_\u001b[0m\u001b[1;33m,\u001b[0m \u001b[0mrank\u001b[0m\u001b[1;33m,\u001b[0m \u001b[0m_\u001b[0m \u001b[1;32min\u001b[0m \u001b[0mrecommendations\u001b[0m\u001b[1;33m:\u001b[0m\u001b[1;33m\u001b[0m\u001b[1;33m\u001b[0m\u001b[0m\n\u001b[0m\u001b[0;32m     36\u001b[0m         \u001b[0mrecall\u001b[0m\u001b[1;33m.\u001b[0m\u001b[0mupdate\u001b[0m\u001b[1;33m(\u001b[0m\u001b[0mrank\u001b[0m\u001b[1;33m)\u001b[0m\u001b[1;33m\u001b[0m\u001b[1;33m\u001b[0m\u001b[0m\n\u001b[0;32m     37\u001b[0m     \u001b[0mmean\u001b[0m \u001b[1;33m=\u001b[0m \u001b[0mrecall\u001b[0m\u001b[1;33m.\u001b[0m\u001b[0mmean\u001b[0m\u001b[1;33m(\u001b[0m\u001b[1;33m)\u001b[0m\u001b[1;33m\u001b[0m\u001b[1;33m\u001b[0m\u001b[0m\n",
      "\u001b[1;32mD:\\recsys\\flurs\\flurs\\evaluator.py\u001b[0m in \u001b[0;36mrecommend\u001b[1;34m(self, test_events)\u001b[0m\n\u001b[0;32m    112\u001b[0m             \u001b[0mself\u001b[0m\u001b[1;33m.\u001b[0m\u001b[0m__validate\u001b[0m\u001b[1;33m(\u001b[0m\u001b[0me\u001b[0m\u001b[1;33m)\u001b[0m\u001b[1;33m\u001b[0m\u001b[1;33m\u001b[0m\u001b[0m\n\u001b[0;32m    113\u001b[0m \u001b[1;33m\u001b[0m\u001b[0m\n\u001b[1;32m--> 114\u001b[1;33m             \u001b[0mcandidates\u001b[0m \u001b[1;33m=\u001b[0m \u001b[0mself\u001b[0m\u001b[1;33m.\u001b[0m\u001b[0mget_candidates\u001b[0m\u001b[1;33m(\u001b[0m\u001b[0me\u001b[0m\u001b[1;33m)\u001b[0m\u001b[1;33m\u001b[0m\u001b[1;33m\u001b[0m\u001b[0m\n\u001b[0m\u001b[0;32m    115\u001b[0m             \u001b[1;31m# make top-{at} recommendation for the 1001 items\u001b[0m\u001b[1;33m\u001b[0m\u001b[1;33m\u001b[0m\u001b[1;33m\u001b[0m\u001b[0m\n\u001b[0;32m    116\u001b[0m             \u001b[0mstart\u001b[0m \u001b[1;33m=\u001b[0m \u001b[0mtime\u001b[0m\u001b[1;33m.\u001b[0m\u001b[0mclock\u001b[0m\u001b[1;33m(\u001b[0m\u001b[1;33m)\u001b[0m\u001b[1;33m\u001b[0m\u001b[1;33m\u001b[0m\u001b[0m\n",
      "\u001b[1;32mD:\\recsys\\flurs\\flurs\\evaluator.py\u001b[0m in \u001b[0;36mget_candidates\u001b[1;34m(self, e)\u001b[0m\n\u001b[0;32m     70\u001b[0m             \u001b[0mindex\u001b[0m \u001b[1;33m=\u001b[0m \u001b[0mnp\u001b[0m\u001b[1;33m.\u001b[0m\u001b[0mones\u001b[0m\u001b[1;33m(\u001b[0m\u001b[0mevery_item\u001b[0m\u001b[1;33m.\u001b[0m\u001b[0mshape\u001b[0m\u001b[1;33m[\u001b[0m\u001b[1;36m0\u001b[0m\u001b[1;33m]\u001b[0m\u001b[1;33m,\u001b[0m \u001b[0mdtype\u001b[0m\u001b[1;33m=\u001b[0m\u001b[0mbool\u001b[0m\u001b[1;33m)\u001b[0m\u001b[1;33m\u001b[0m\u001b[1;33m\u001b[0m\u001b[0m\n\u001b[0;32m     71\u001b[0m             \u001b[0mindex\u001b[0m\u001b[1;33m[\u001b[0m\u001b[0me\u001b[0m\u001b[1;33m.\u001b[0m\u001b[0muser\u001b[0m\u001b[1;33m.\u001b[0m\u001b[0mknown_items\u001b[0m\u001b[1;33m]\u001b[0m \u001b[1;33m=\u001b[0m \u001b[1;32mFalse\u001b[0m\u001b[1;33m\u001b[0m\u001b[1;33m\u001b[0m\u001b[0m\n\u001b[1;32m---> 72\u001b[1;33m             \u001b[0munobserved\u001b[0m \u001b[1;33m=\u001b[0m \u001b[0mnp\u001b[0m\u001b[1;33m.\u001b[0m\u001b[0mintersect1d\u001b[0m\u001b[1;33m(\u001b[0m\u001b[0munobserved\u001b[0m\u001b[1;33m,\u001b[0m \u001b[0mevery_item\u001b[0m\u001b[1;33m[\u001b[0m\u001b[0mindex\u001b[0m\u001b[1;33m]\u001b[0m\u001b[1;33m)\u001b[0m\u001b[1;33m\u001b[0m\u001b[1;33m\u001b[0m\u001b[0m\n\u001b[0m\u001b[0;32m     73\u001b[0m         \u001b[0mnp\u001b[0m\u001b[1;33m.\u001b[0m\u001b[0mrandom\u001b[0m\u001b[1;33m.\u001b[0m\u001b[0mshuffle\u001b[0m\u001b[1;33m(\u001b[0m\u001b[0munobserved\u001b[0m\u001b[1;33m)\u001b[0m\u001b[1;33m\u001b[0m\u001b[1;33m\u001b[0m\u001b[0m\n\u001b[0;32m     74\u001b[0m         \u001b[0munobserved\u001b[0m \u001b[1;33m=\u001b[0m \u001b[0munobserved\u001b[0m\u001b[1;33m[\u001b[0m\u001b[1;33m:\u001b[0m\u001b[1;36m1000\u001b[0m\u001b[1;33m]\u001b[0m\u001b[1;33m\u001b[0m\u001b[1;33m\u001b[0m\u001b[0m\n",
      "\u001b[1;32mD:\\Anaconda3\\lib\\site-packages\\numpy\\lib\\arraysetops.py\u001b[0m in \u001b[0;36mintersect1d\u001b[1;34m(ar1, ar2, assume_unique, return_indices)\u001b[0m\n\u001b[0;32m    367\u001b[0m         \u001b[1;32melse\u001b[0m\u001b[1;33m:\u001b[0m\u001b[1;33m\u001b[0m\u001b[1;33m\u001b[0m\u001b[0m\n\u001b[0;32m    368\u001b[0m             \u001b[0mar1\u001b[0m \u001b[1;33m=\u001b[0m \u001b[0munique\u001b[0m\u001b[1;33m(\u001b[0m\u001b[0mar1\u001b[0m\u001b[1;33m)\u001b[0m\u001b[1;33m\u001b[0m\u001b[1;33m\u001b[0m\u001b[0m\n\u001b[1;32m--> 369\u001b[1;33m             \u001b[0mar2\u001b[0m \u001b[1;33m=\u001b[0m \u001b[0munique\u001b[0m\u001b[1;33m(\u001b[0m\u001b[0mar2\u001b[0m\u001b[1;33m)\u001b[0m\u001b[1;33m\u001b[0m\u001b[1;33m\u001b[0m\u001b[0m\n\u001b[0m\u001b[0;32m    370\u001b[0m     \u001b[1;32melse\u001b[0m\u001b[1;33m:\u001b[0m\u001b[1;33m\u001b[0m\u001b[1;33m\u001b[0m\u001b[0m\n\u001b[0;32m    371\u001b[0m         \u001b[0mar1\u001b[0m \u001b[1;33m=\u001b[0m \u001b[0mar1\u001b[0m\u001b[1;33m.\u001b[0m\u001b[0mravel\u001b[0m\u001b[1;33m(\u001b[0m\u001b[1;33m)\u001b[0m\u001b[1;33m\u001b[0m\u001b[1;33m\u001b[0m\u001b[0m\n",
      "\u001b[1;32mD:\\Anaconda3\\lib\\site-packages\\numpy\\lib\\arraysetops.py\u001b[0m in \u001b[0;36munique\u001b[1;34m(ar, return_index, return_inverse, return_counts, axis)\u001b[0m\n\u001b[0;32m    231\u001b[0m     \u001b[0mar\u001b[0m \u001b[1;33m=\u001b[0m \u001b[0mnp\u001b[0m\u001b[1;33m.\u001b[0m\u001b[0masanyarray\u001b[0m\u001b[1;33m(\u001b[0m\u001b[0mar\u001b[0m\u001b[1;33m)\u001b[0m\u001b[1;33m\u001b[0m\u001b[1;33m\u001b[0m\u001b[0m\n\u001b[0;32m    232\u001b[0m     \u001b[1;32mif\u001b[0m \u001b[0maxis\u001b[0m \u001b[1;32mis\u001b[0m \u001b[1;32mNone\u001b[0m\u001b[1;33m:\u001b[0m\u001b[1;33m\u001b[0m\u001b[1;33m\u001b[0m\u001b[0m\n\u001b[1;32m--> 233\u001b[1;33m         \u001b[0mret\u001b[0m \u001b[1;33m=\u001b[0m \u001b[0m_unique1d\u001b[0m\u001b[1;33m(\u001b[0m\u001b[0mar\u001b[0m\u001b[1;33m,\u001b[0m \u001b[0mreturn_index\u001b[0m\u001b[1;33m,\u001b[0m \u001b[0mreturn_inverse\u001b[0m\u001b[1;33m,\u001b[0m \u001b[0mreturn_counts\u001b[0m\u001b[1;33m)\u001b[0m\u001b[1;33m\u001b[0m\u001b[1;33m\u001b[0m\u001b[0m\n\u001b[0m\u001b[0;32m    234\u001b[0m         \u001b[1;32mreturn\u001b[0m \u001b[0m_unpack_tuple\u001b[0m\u001b[1;33m(\u001b[0m\u001b[0mret\u001b[0m\u001b[1;33m)\u001b[0m\u001b[1;33m\u001b[0m\u001b[1;33m\u001b[0m\u001b[0m\n\u001b[0;32m    235\u001b[0m \u001b[1;33m\u001b[0m\u001b[0m\n",
      "\u001b[1;32mD:\\Anaconda3\\lib\\site-packages\\numpy\\lib\\arraysetops.py\u001b[0m in \u001b[0;36m_unique1d\u001b[1;34m(ar, return_index, return_inverse, return_counts)\u001b[0m\n\u001b[0;32m    283\u001b[0m     \u001b[0mmask\u001b[0m \u001b[1;33m=\u001b[0m \u001b[0mnp\u001b[0m\u001b[1;33m.\u001b[0m\u001b[0mempty\u001b[0m\u001b[1;33m(\u001b[0m\u001b[0maux\u001b[0m\u001b[1;33m.\u001b[0m\u001b[0mshape\u001b[0m\u001b[1;33m,\u001b[0m \u001b[0mdtype\u001b[0m\u001b[1;33m=\u001b[0m\u001b[0mnp\u001b[0m\u001b[1;33m.\u001b[0m\u001b[0mbool_\u001b[0m\u001b[1;33m)\u001b[0m\u001b[1;33m\u001b[0m\u001b[1;33m\u001b[0m\u001b[0m\n\u001b[0;32m    284\u001b[0m     \u001b[0mmask\u001b[0m\u001b[1;33m[\u001b[0m\u001b[1;33m:\u001b[0m\u001b[1;36m1\u001b[0m\u001b[1;33m]\u001b[0m \u001b[1;33m=\u001b[0m \u001b[1;32mTrue\u001b[0m\u001b[1;33m\u001b[0m\u001b[1;33m\u001b[0m\u001b[0m\n\u001b[1;32m--> 285\u001b[1;33m     \u001b[0mmask\u001b[0m\u001b[1;33m[\u001b[0m\u001b[1;36m1\u001b[0m\u001b[1;33m:\u001b[0m\u001b[1;33m]\u001b[0m \u001b[1;33m=\u001b[0m \u001b[0maux\u001b[0m\u001b[1;33m[\u001b[0m\u001b[1;36m1\u001b[0m\u001b[1;33m:\u001b[0m\u001b[1;33m]\u001b[0m \u001b[1;33m!=\u001b[0m \u001b[0maux\u001b[0m\u001b[1;33m[\u001b[0m\u001b[1;33m:\u001b[0m\u001b[1;33m-\u001b[0m\u001b[1;36m1\u001b[0m\u001b[1;33m]\u001b[0m\u001b[1;33m\u001b[0m\u001b[1;33m\u001b[0m\u001b[0m\n\u001b[0m\u001b[0;32m    286\u001b[0m \u001b[1;33m\u001b[0m\u001b[0m\n\u001b[0;32m    287\u001b[0m     \u001b[0mret\u001b[0m \u001b[1;33m=\u001b[0m \u001b[1;33m(\u001b[0m\u001b[0maux\u001b[0m\u001b[1;33m[\u001b[0m\u001b[0mmask\u001b[0m\u001b[1;33m]\u001b[0m\u001b[1;33m,\u001b[0m\u001b[1;33m)\u001b[0m\u001b[1;33m\u001b[0m\u001b[1;33m\u001b[0m\u001b[0m\n",
      "\u001b[1;31mKeyboardInterrupt\u001b[0m: "
     ]
    }
   ],
   "source": [
    "experiments = {}\n",
    "for f in experimenter.forgetting_list():\n",
    "    experiments[f] = {}\n",
    "    experiments[f]['mean_recall'] = 0.0\n",
    "\n",
    "for rec in experimenter:\n",
    "    forgetting = rec.forgetting.__class__.__name__\n",
    "    logging.info('initialize recommendation model {} with {}'.format(rec.__class__.__name__, forgetting))\n",
    "    rec.initialize()\n",
    "    evaluator = Evaluator(rec, data.can_repeat)\n",
    "\n",
    "    n_batch_train = int(data.n_sample * 0.2)  # 20% for pre-training to avoid cold-start\n",
    "    n_batch_test = int(data.n_sample * 0.3)  # 30% for evaluation of pre-training\n",
    "    batch_tail = n_batch_train + n_batch_test\n",
    "\n",
    "    # pre-train\n",
    "    # 20% for batch training \n",
    "    batch_training = data.samples[:n_batch_train] \n",
    "    # 30% for batch evaluate\n",
    "    batch_test = data.samples[n_batch_train:batch_tail]\n",
    "    # after the batch training, 30% samples are used for incremental updating\n",
    "    \n",
    "    logging.info('batch pre-training before streaming input')\n",
    "    evaluator.fit(\n",
    "        batch_training,\n",
    "        batch_test,\n",
    "        max_n_epoch=20 \n",
    "    )\n",
    "    \n",
    "    recall = Recall(RECALL_AT)\n",
    "    \n",
    "    recommendations = evaluator.recommend(batch_test)\n",
    "    logging.info('measuring the recall@{} from the new model'.format(RECALL_AT))\n",
    "    # (top-1 score, rank, recommend_time)\n",
    "    for _, rank, _ in recommendations:\n",
    "        recall.update(rank)\n",
    "    mean = recall.mean() \n",
    "    logging.info('mean recall@{}: {}'.format(RECALL_AT,mean))\n",
    "    if mean > experiments[forgetting]['mean_recall']:\n",
    "        experiments[forgetting]['mean_recall'] = mean\n",
    "        experiments[forgetting]['evaluator'] = evaluator.evaluate(data.samples[batch_tail:])\n",
    "        experiments[forgetting]['recommender'] = rec.__class__.__name__\n",
    "        experiments[forgetting]['alpha'] = rec.forgetting.alpha\n",
    "        \n",
    "\n",
    "# 50% incremental evaluation and updating\n",
    "logging.info('incrementally predict, evaluate and update the recommender')    \n",
    "for forgetting in experiments:\n",
    "    logging.info('Recommender: {0}, Forgetting: {1}, Alpha: {2}, Mean Recall: {3:2f}'.format(\n",
    "        experiments[forgetting]['recommender'],\n",
    "        forgetting,\n",
    "        experiments[forgetting]['alpha'],\n",
    "        experiments[forgetting]['mean_recall']\n",
    "    ))"
   ]
  },
  {
   "cell_type": "code",
   "execution_count": null,
   "metadata": {},
   "outputs": [],
   "source": [
    "for forgetting in experiments:\n",
    "    evaluator = experiments[forgetting]['evaluator']\n",
    "    recommender = experiments[forgetting]['recommender']\n",
    "    param = str(experiments[forgetting]['alpha'])\n",
    "    filename = \"D:\\\\recsys\\\\flurs\\\\results\\\\{}_{}_{}_{}.dat\".format(recommender, forgetting, param, EXP_NAME)\n",
    "    logging.info(\"Abrindo arquivo {} ...\".format(filename))\n",
    "    with open(filename, 'w+') as f:\n",
    "        logging.info(\"Começando a gerar resultados ...\")\n",
    "        for instance in evaluator:\n",
    "            f.write(str(instance))\n",
    "    logging.info(\"Arquivo {} completo.\".format(filename))\n",
    "    "
   ]
  }
 ],
 "metadata": {
  "kernelspec": {
   "display_name": "Python 3",
   "language": "python",
   "name": "python3"
  },
  "language_info": {
   "codemirror_mode": {
    "name": "ipython",
    "version": 3
   },
   "file_extension": ".py",
   "mimetype": "text/x-python",
   "name": "python",
   "nbconvert_exporter": "python",
   "pygments_lexer": "ipython3",
   "version": "3.7.1"
  }
 },
 "nbformat": 4,
 "nbformat_minor": 2
}
