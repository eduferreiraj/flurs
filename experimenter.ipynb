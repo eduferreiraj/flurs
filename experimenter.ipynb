{
 "cells": [
  {
   "cell_type": "code",
   "execution_count": 1,
   "metadata": {
    "scrolled": true
   },
   "outputs": [
    {
     "name": "stderr",
     "output_type": "stream",
     "text": [
      "2019-03-17 01:08:17,319 : INFO : running D:\\Anaconda3\\envs\\recsys\\lib\\site-packages\\ipykernel_launcher.py -f C:\\Users\\Eduardo Ferreira\\AppData\\Roaming\\jupyter\\runtime\\kernel-c8c11876-00db-40ae-91cb-23706debe5f0.json\n",
      "2019-03-17 01:08:17,326 : INFO : converting data into FluRS input object\n"
     ]
    }
   ],
   "source": [
    "from flurs.datasets import csv_loader\n",
    "from flurs.recommender import BRISMFRecommender, MFRecommender\n",
    "from flurs.forgetting import ForgetUnpopularItems, NoForgetting, MappedUserFactorFading, UserFactorFading, SDUserFactorFading\n",
    "from flurs.evaluator import Evaluator\n",
    "\n",
    "import logging\n",
    "import os\n",
    "import sys\n",
    "\n",
    "ML_PATH = 'D:\\\\recsys\\\\datasets\\\\MovieLens\\\\ml-1m\\\\ml-1m-gte.csv'\n",
    "EXP_NAME = \"M2\"\n",
    "\n",
    "program = os.path.basename(ML_PATH)\n",
    "logger = logging.getLogger(program)\n",
    "\n",
    "logging.basicConfig(format='%(asctime)s : %(levelname)s : %(message)s')\n",
    "logging.root.setLevel(level=logging.INFO)\n",
    "logger.info('running %s' % ' '.join(sys.argv))\n",
    "\n",
    "logging.info('converting data into FluRS input object')\n",
    "data = csv_loader(ML_PATH)"
   ]
  },
  {
   "cell_type": "code",
   "execution_count": 2,
   "metadata": {},
   "outputs": [],
   "source": [
    "class Experimenter:\n",
    "    def __init__(self):\n",
    "        self._recommenders = []\n",
    "    def append(self, recommender_list, forgetting_list, parameters_list):\n",
    "        for Recommender in recommender_list:\n",
    "            for p in parameters_list:\n",
    "                for Forgetting in forgetting_list:\n",
    "                    self._recommenders.append(Recommender(forgetting = Forgetting(alpha=p)))\n",
    "    def __getitem__(self, position):\n",
    "        return self._recommenders[position]"
   ]
  },
  {
   "cell_type": "code",
   "execution_count": 3,
   "metadata": {},
   "outputs": [],
   "source": [
    "experimenter = Experimenter()\n",
    "recommender_list = []\n",
    "recommender_list.append(MFRecommender)\n",
    "\n",
    "experimenter.append(recommender_list, [ForgetUnpopularItems], [1.2])\n",
    "# experimenter.append(recommender_list, [NoForgetting], [None])\n",
    "# experimenter.append(recommender_list, [UserFactorFading], [0.99])\n",
    "# experimenter.append(recommender_list, [SDUserFactorFading], [1.08])\n",
    "# experimenter.append(recommender_list, [MappedUserFactorFading], [1, 1.1, 1.2, 1.3, 1.4, 1.5, 1.6])"
   ]
  },
  {
   "cell_type": "code",
   "execution_count": 4,
   "metadata": {},
   "outputs": [
    {
     "name": "stderr",
     "output_type": "stream",
     "text": [
      "2019-03-17 01:08:17,856 : INFO : initialize recommendation model MFRecommender with ForgetUnpopularItems\n",
      "2019-03-17 01:08:17,857 : INFO : batch pre-training before streaming input\n",
      "2019-03-17 01:09:15,915 : INFO : incrementally predict, evaluate and update the recommender\n"
     ]
    }
   ],
   "source": [
    "experiments = []\n",
    "for rec in experimenter:\n",
    "    logging.info('initialize recommendation model {} with {}'.format(rec.__class__.__name__, rec.forgetting.__class__.__name__))\n",
    "    rec.initialize()\n",
    "    evaluator = Evaluator(rec, data.can_repeat)\n",
    "\n",
    "    n_batch_train = int(data.n_sample * 0.2)  # 20% for pre-training to avoid cold-start\n",
    "    n_batch_test = int(data.n_sample * 0.3)  # 30% for evaluation of pre-training\n",
    "    batch_tail = n_batch_train + n_batch_test\n",
    "\n",
    "    # pre-train\n",
    "    # 20% for batch training | 30% for batch evaluate\n",
    "    # after the batch training, 30% samples are used for incremental updating\n",
    "    logging.info('batch pre-training before streaming input')\n",
    "    evaluator.fit(\n",
    "        data.samples[:n_batch_train],\n",
    "        data.samples[n_batch_train:batch_tail],\n",
    "        n_epoch=1  # single pass even for batch training\n",
    "    )\n",
    "\n",
    "    # 50% incremental evaluation and updating\n",
    "    logging.info('incrementally predict, evaluate and update the recommender')\n",
    "    experiments.append((evaluator.evaluate(data.samples[batch_tail:]), rec.__class__.__name__, rec.forgetting.__class__.__name__, rec.forgetting.alpha))"
   ]
  },
  {
   "cell_type": "code",
   "execution_count": null,
   "metadata": {},
   "outputs": [
    {
     "name": "stderr",
     "output_type": "stream",
     "text": [
      "2019-03-17 01:09:15,932 : INFO : Abrindo arquivo D:\\recsys\\flurs\\results\\MFRecommender_ForgetUnpopularItems_1.2_M2.dat ...\n",
      "2019-03-17 01:09:15,936 : INFO : Começando a gerar resultados ...\n"
     ]
    }
   ],
   "source": [
    "for evaluator, recommender, forgetting, param in experiments:\n",
    "    filename = \"D:\\\\recsys\\\\flurs\\\\results\\\\{}_{}_{}_{}.dat\".format(recommender, forgetting, param, EXP_NAME)\n",
    "    logging.info(\"Abrindo arquivo {} ...\".format(filename))\n",
    "    with open(filename, 'w+') as f:\n",
    "        logging.info(\"Começando a gerar resultados ...\")\n",
    "        for instance in evaluator:\n",
    "            f.write(str(instance))\n",
    "    logging.info(\"Arquivo {} completo.\".format(filename))\n",
    "    "
   ]
  }
 ],
 "metadata": {
  "kernelspec": {
   "display_name": "Python 3",
   "language": "python",
   "name": "python3"
  },
  "language_info": {
   "codemirror_mode": {
    "name": "ipython",
    "version": 3
   },
   "file_extension": ".py",
   "mimetype": "text/x-python",
   "name": "python",
   "nbconvert_exporter": "python",
   "pygments_lexer": "ipython3",
   "version": "3.7.2"
  }
 },
 "nbformat": 4,
 "nbformat_minor": 2
}
