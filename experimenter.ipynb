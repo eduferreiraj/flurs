{
 "cells": [
  {
   "cell_type": "code",
   "execution_count": 1,
   "metadata": {
    "scrolled": true
   },
   "outputs": [
    {
     "name": "stderr",
     "output_type": "stream",
     "text": [
      "2019-03-25 23:19:42,478 : INFO : running D:\\Anaconda3\\envs\\recsys\\lib\\site-packages\\ipykernel_launcher.py -f C:\\Users\\Eduardo Ferreira\\AppData\\Roaming\\jupyter\\runtime\\kernel-25d0cedd-48f9-42b9-88d1-1d1b96c52418.json\n",
      "2019-03-25 23:19:42,482 : INFO : converting data into FluRS input object\n"
     ]
    }
   ],
   "source": [
    "from flurs.datasets import csv_loader\n",
    "from flurs.recommender import BRISMFRecommender, MFRecommender\n",
    "from flurs.forgetting import ForgetUnpopularItems, NoForgetting, MappedUserFactorFading, UserFactorFading, SDUserFactorFading\n",
    "from flurs.evaluator import Evaluator\n",
    "\n",
    "import logging\n",
    "import os\n",
    "import sys\n",
    "\n",
    "ML_PATH = 'D:\\\\recsys\\\\datasets\\\\MovieLens\\\\ml-1m\\\\ml-1m-gte.csv'\n",
    "EXP_NAME = \"M2\"\n",
    "RECALL_AT = 10\n",
    "\n",
    "program = os.path.basename(ML_PATH)\n",
    "logger = logging.getLogger(program)\n",
    "\n",
    "logging.basicConfig(format='%(asctime)s : %(levelname)s : %(message)s')\n",
    "logging.root.setLevel(level=logging.INFO)\n",
    "logger.info('running %s' % ' '.join(sys.argv))\n",
    "\n",
    "logging.info('converting data into FluRS input object')\n",
    "data = csv_loader(ML_PATH)"
   ]
  },
  {
   "cell_type": "code",
   "execution_count": 2,
   "metadata": {},
   "outputs": [],
   "source": [
    "class Experimenter:\n",
    "    def __init__(self):\n",
    "        self._recommenders = []\n",
    "        self.forgettings = []\n",
    "    def append(self, recommender_list, forgetting_list, parameters_list):\n",
    "        for f in forgetting_list:\n",
    "            self.forgettings.append(f.__name__)\n",
    "        for Recommender in recommender_list:\n",
    "            for p in parameters_list:\n",
    "                for Forgetting in forgetting_list:\n",
    "                    self._recommenders.append(Recommender(forgetting = Forgetting(alpha=p), learn_rate=.002, k=60))\n",
    "                    \n",
    "    def __getitem__(self, position):\n",
    "        return self._recommenders[position]\n",
    "    def forgetting_list(self):\n",
    "        return self.forgettings"
   ]
  },
  {
   "cell_type": "code",
   "execution_count": 3,
   "metadata": {},
   "outputs": [],
   "source": [
    "import numpy as np\n",
    "\n",
    "class Recall:\n",
    "    def __init__(self, n):\n",
    "        self.n = n\n",
    "        self.hits = 0\n",
    "        self.stream = 0 \n",
    "        self.r_mean = 0.0\n",
    "        self.recall_list = []\n",
    "    def update(self, rank):\n",
    "        if rank <= self.n:\n",
    "            self.hits += 1\n",
    "        self.stream += 1\n",
    "        recall = self.score()\n",
    "        self.recall_list.append(recall)\n",
    "        return recall\n",
    "    def score(self):\n",
    "        return self.hits/self.stream\n",
    "    def mean(self):\n",
    "        return np.mean(self.recall_list)"
   ]
  },
  {
   "cell_type": "code",
   "execution_count": 4,
   "metadata": {},
   "outputs": [],
   "source": [
    "experimenter = Experimenter()\n",
    "recommender_list = []\n",
    "recommender_list.append(MFRecommender)\n",
    "\n",
    "# [1.01, 1.1, 10, 100, 1000, 10000]\n",
    "# mean_pop = [-0.00040199748722443427, -0.0003777209117588382, -0.0003762619662848127, \n",
    "#             -0.0003814282091102922, -0.00038355540091335725, -0.0003867758902406115]\n",
    "# alpha = np.array([.9999, .99, .95, .9, .8])\n",
    "# alpha = alpha ** (1./np.mean(mean_pop))\n",
    "# print(\"Alphas: {}\".format(alpha))\n",
    "\n",
    "experimenter.append(recommender_list, [NoForgetting], [None])\n",
    "experimenter.append(recommender_list, [SDUserFactorFading], [1.08, 10, 100, 1000, 10000])\n",
    "experimenter.append(recommender_list, [ForgetUnpopularItems], [1.2, 10, 100, 1000, 10000])\n",
    "experimenter.append(recommender_list, [UserFactorFading], [.99, .95, .9, .85, .80])\n",
    "experimenter.append(recommender_list, [MappedUserFactorFading], [1.1, 10, 100, 1000, 10000])"
   ]
  },
  {
   "cell_type": "code",
   "execution_count": 5,
   "metadata": {
    "scrolled": false
   },
   "outputs": [
    {
     "name": "stderr",
     "output_type": "stream",
     "text": [
      "2019-03-25 23:19:43,044 : INFO : initialize recommendation model MFRecommender with NoForgetting\n",
      "2019-03-25 23:19:43,047 : INFO : batch pre-training before streaming input\n",
      "2019-03-25 23:21:48,012 : INFO : 12888 : Epochs:14 Convergence:-6.412353865448139e-06\n",
      "2019-03-25 23:21:48,012 : INFO : Epochs:14 Convergence:-6.412353865448139e-06\n",
      "2019-03-25 23:21:51,694 : INFO : measuring the recall@10 from the new model\n",
      "2019-03-25 23:24:12,587 : INFO : mean recall@10: 0.001305800926020611\n",
      "2019-03-25 23:24:12,589 : INFO : initialize recommendation model MFRecommender with SDUserFactorFading\n",
      "2019-03-25 23:24:12,591 : INFO : batch pre-training before streaming input\n",
      "2019-03-25 23:26:40,822 : INFO : 12888 : Epochs:16 Convergence:-1.1652452336363694e-08\n",
      "2019-03-25 23:26:40,822 : INFO : Epochs:16 Convergence:-1.1652452336363694e-08\n"
     ]
    },
    {
     "name": "stdout",
     "output_type": "stream",
     "text": [
      "Alpha:1.08 Mean:0.999972\n"
     ]
    },
    {
     "name": "stderr",
     "output_type": "stream",
     "text": [
      "2019-03-25 23:26:49,688 : INFO : measuring the recall@10 from the new model\n",
      "2019-03-25 23:29:09,885 : INFO : mean recall@10: 0.0008883727843374939\n",
      "2019-03-25 23:29:09,887 : INFO : initialize recommendation model MFRecommender with SDUserFactorFading\n",
      "2019-03-25 23:29:09,889 : INFO : batch pre-training before streaming input\n",
      "2019-03-25 23:31:08,344 : INFO : 12888 : Epochs:13 Convergence:-8.511639481789679e-06\n",
      "2019-03-25 23:31:08,344 : INFO : Epochs:13 Convergence:-8.511639481789679e-06\n"
     ]
    },
    {
     "name": "stdout",
     "output_type": "stream",
     "text": [
      "Alpha:10 Mean:0.999129\n"
     ]
    },
    {
     "name": "stderr",
     "output_type": "stream",
     "text": [
      "2019-03-25 23:31:17,061 : INFO : measuring the recall@10 from the new model\n",
      "2019-03-25 23:33:34,307 : INFO : mean recall@10: 0.0018307844362052694\n",
      "2019-03-25 23:33:34,310 : INFO : initialize recommendation model MFRecommender with SDUserFactorFading\n",
      "2019-03-25 23:33:34,313 : INFO : batch pre-training before streaming input\n",
      "2019-03-25 23:35:52,771 : INFO : 12888 : Epochs:15 Convergence:-1.0732825250769906e-06\n",
      "2019-03-25 23:35:52,771 : INFO : Epochs:15 Convergence:-1.0732825250769906e-06\n"
     ]
    },
    {
     "name": "stdout",
     "output_type": "stream",
     "text": [
      "Alpha:100 Mean:0.998271\n"
     ]
    },
    {
     "name": "stderr",
     "output_type": "stream",
     "text": [
      "2019-03-25 23:36:01,567 : INFO : measuring the recall@10 from the new model\n",
      "2019-03-25 23:38:20,281 : INFO : mean recall@10: 0.0016587830473806847\n",
      "2019-03-25 23:38:20,283 : INFO : initialize recommendation model MFRecommender with SDUserFactorFading\n",
      "2019-03-25 23:38:20,286 : INFO : batch pre-training before streaming input\n",
      "2019-03-25 23:40:28,108 : INFO : 12888 : Epochs:14 Convergence:-4.133704454734044e-06\n",
      "2019-03-25 23:40:28,108 : INFO : Epochs:14 Convergence:-4.133704454734044e-06\n"
     ]
    },
    {
     "name": "stdout",
     "output_type": "stream",
     "text": [
      "Alpha:1000 Mean:0.997357\n"
     ]
    },
    {
     "name": "stderr",
     "output_type": "stream",
     "text": [
      "2019-03-25 23:40:36,902 : INFO : measuring the recall@10 from the new model\n",
      "2019-03-25 23:42:54,930 : INFO : mean recall@10: 0.00252108399515375\n",
      "2019-03-25 23:42:54,934 : INFO : initialize recommendation model MFRecommender with SDUserFactorFading\n",
      "2019-03-25 23:42:54,937 : INFO : batch pre-training before streaming input\n",
      "2019-03-25 23:44:43,356 : INFO : 12888 : Epochs:12 Convergence:-6.429281516506791e-06\n",
      "2019-03-25 23:44:43,356 : INFO : Epochs:12 Convergence:-6.429281516506791e-06\n"
     ]
    },
    {
     "name": "stdout",
     "output_type": "stream",
     "text": [
      "Alpha:10000 Mean:0.996452\n"
     ]
    },
    {
     "name": "stderr",
     "output_type": "stream",
     "text": [
      "2019-03-25 23:44:52,159 : INFO : measuring the recall@10 from the new model\n",
      "2019-03-25 23:47:12,368 : INFO : mean recall@10: 0.002903349449851224\n",
      "2019-03-25 23:47:12,371 : INFO : initialize recommendation model MFRecommender with ForgetUnpopularItems\n",
      "2019-03-25 23:47:12,373 : INFO : batch pre-training before streaming input\n",
      "2019-03-25 23:47:51,971 : INFO : 12888 : Epochs:5 Convergence:2.7340307695578048e-06\n",
      "2019-03-25 23:47:51,971 : INFO : Epochs:5 Convergence:2.7340307695578048e-06\n"
     ]
    },
    {
     "name": "stdout",
     "output_type": "stream",
     "text": [
      "Alpha:1.2 Mean:0.677244\n"
     ]
    },
    {
     "name": "stderr",
     "output_type": "stream",
     "text": [
      "2019-03-25 23:47:59,387 : INFO : measuring the recall@10 from the new model\n",
      "2019-03-25 23:50:17,349 : INFO : mean recall@10: 0.0010419992799748188\n",
      "2019-03-25 23:50:17,352 : INFO : initialize recommendation model MFRecommender with ForgetUnpopularItems\n",
      "2019-03-25 23:50:17,354 : INFO : batch pre-training before streaming input\n",
      "2019-03-25 23:52:05,074 : INFO : 12888 : Epochs:12 Convergence:3.311596222133062e-06\n",
      "2019-03-25 23:52:05,074 : INFO : Epochs:12 Convergence:3.311596222133062e-06\n"
     ]
    },
    {
     "name": "stdout",
     "output_type": "stream",
     "text": [
      "Alpha:10 Mean:0.996306\n"
     ]
    },
    {
     "name": "stderr",
     "output_type": "stream",
     "text": [
      "2019-03-25 23:52:12,531 : INFO : measuring the recall@10 from the new model\n",
      "2019-03-25 23:54:30,710 : INFO : mean recall@10: 0.0009915224341296212\n",
      "2019-03-25 23:54:30,710 : INFO : initialize recommendation model MFRecommender with ForgetUnpopularItems\n",
      "2019-03-25 23:54:30,713 : INFO : batch pre-training before streaming input\n",
      "2019-03-25 23:56:28,153 : INFO : 12888 : Epochs:13 Convergence:-1.1707583854603243e-06\n",
      "2019-03-25 23:56:28,153 : INFO : Epochs:13 Convergence:-1.1707583854603243e-06\n"
     ]
    },
    {
     "name": "stdout",
     "output_type": "stream",
     "text": [
      "Alpha:100 Mean:0.999692\n"
     ]
    },
    {
     "name": "stderr",
     "output_type": "stream",
     "text": [
      "2019-03-25 23:56:35,620 : INFO : measuring the recall@10 from the new model\n",
      "2019-03-25 23:58:53,646 : INFO : mean recall@10: 0.0013296857928235901\n",
      "2019-03-25 23:58:53,649 : INFO : initialize recommendation model MFRecommender with ForgetUnpopularItems\n",
      "2019-03-25 23:58:53,652 : INFO : batch pre-training before streaming input\n",
      "2019-03-26 00:01:11,410 : INFO : 12888 : Epochs:15 Convergence:9.42821943183958e-07\n",
      "2019-03-26 00:01:11,410 : INFO : Epochs:15 Convergence:9.42821943183958e-07\n"
     ]
    },
    {
     "name": "stdout",
     "output_type": "stream",
     "text": [
      "Alpha:1000 Mean:0.999974\n"
     ]
    },
    {
     "name": "stderr",
     "output_type": "stream",
     "text": [
      "2019-03-26 00:01:18,908 : INFO : measuring the recall@10 from the new model\n",
      "2019-03-26 00:03:38,602 : INFO : mean recall@10: 0.0013252876979924933\n",
      "2019-03-26 00:03:38,603 : INFO : initialize recommendation model MFRecommender with ForgetUnpopularItems\n",
      "2019-03-26 00:03:38,605 : INFO : batch pre-training before streaming input\n",
      "2019-03-26 00:05:36,685 : INFO : 12888 : Epochs:13 Convergence:-4.1357412960962847e-07\n",
      "2019-03-26 00:05:36,685 : INFO : Epochs:13 Convergence:-4.1357412960962847e-07\n"
     ]
    },
    {
     "name": "stdout",
     "output_type": "stream",
     "text": [
      "Alpha:10000 Mean:0.999997\n"
     ]
    },
    {
     "name": "stderr",
     "output_type": "stream",
     "text": [
      "2019-03-26 00:05:44,200 : INFO : measuring the recall@10 from the new model\n",
      "2019-03-26 00:08:04,917 : INFO : mean recall@10: 0.0013044006286596676\n",
      "2019-03-26 00:08:04,919 : INFO : initialize recommendation model MFRecommender with UserFactorFading\n",
      "2019-03-26 00:08:04,935 : INFO : batch pre-training before streaming input\n",
      "2019-03-26 00:11:20,683 : INFO : 12888 : Epochs:21 Convergence:-2.7568431922309067e-05\n",
      "2019-03-26 00:11:20,683 : INFO : Epochs:21 Convergence:-2.7568431922309067e-05\n",
      "2019-03-26 00:11:27,159 : INFO : measuring the recall@10 from the new model\n",
      "2019-03-26 00:13:48,872 : INFO : mean recall@10: 0.001792819354877066\n",
      "2019-03-26 00:13:48,886 : INFO : initialize recommendation model MFRecommender with UserFactorFading\n",
      "2019-03-26 00:13:48,889 : INFO : batch pre-training before streaming input\n",
      "2019-03-26 00:17:04,980 : INFO : 12888 : Epochs:21 Convergence:-5.2016394100795615e-05\n",
      "2019-03-26 00:17:04,980 : INFO : Epochs:21 Convergence:-5.2016394100795615e-05\n",
      "2019-03-26 00:17:11,459 : INFO : measuring the recall@10 from the new model\n",
      "2019-03-26 00:19:31,871 : INFO : mean recall@10: 0.0029182342885458717\n",
      "2019-03-26 00:19:31,881 : INFO : initialize recommendation model MFRecommender with UserFactorFading\n",
      "2019-03-26 00:19:31,886 : INFO : batch pre-training before streaming input\n",
      "2019-03-26 00:22:48,683 : INFO : 12888 : Epochs:21 Convergence:-5.7754508316909536e-05\n",
      "2019-03-26 00:22:48,683 : INFO : Epochs:21 Convergence:-5.7754508316909536e-05\n",
      "2019-03-26 00:22:55,173 : INFO : measuring the recall@10 from the new model\n",
      "2019-03-26 00:25:13,848 : INFO : mean recall@10: 0.004443911319802068\n",
      "2019-03-26 00:25:13,851 : INFO : initialize recommendation model MFRecommender with UserFactorFading\n",
      "2019-03-26 00:25:13,853 : INFO : batch pre-training before streaming input\n",
      "2019-03-26 00:28:29,510 : INFO : 12888 : Epochs:21 Convergence:-5.9460646225195646e-05\n",
      "2019-03-26 00:28:29,510 : INFO : Epochs:21 Convergence:-5.9460646225195646e-05\n",
      "2019-03-26 00:28:35,985 : INFO : measuring the recall@10 from the new model\n",
      "2019-03-26 00:30:56,726 : INFO : mean recall@10: 0.004767153773296278\n",
      "2019-03-26 00:30:56,729 : INFO : initialize recommendation model MFRecommender with UserFactorFading\n",
      "2019-03-26 00:30:56,732 : INFO : batch pre-training before streaming input\n",
      "2019-03-26 00:34:12,306 : INFO : 12888 : Epochs:21 Convergence:-5.9261221481032855e-05\n",
      "2019-03-26 00:34:12,306 : INFO : Epochs:21 Convergence:-5.9261221481032855e-05\n",
      "2019-03-26 00:34:18,742 : INFO : measuring the recall@10 from the new model\n",
      "2019-03-26 00:36:37,487 : INFO : mean recall@10: 0.005833192446933002\n",
      "2019-03-26 00:36:37,490 : INFO : initialize recommendation model MFRecommender with MappedUserFactorFading\n",
      "2019-03-26 00:36:37,492 : INFO : batch pre-training before streaming input\n",
      "2019-03-26 00:39:55,561 : INFO : 12888 : Epochs:21 Convergence:-5.924807583645997e-05\n",
      "2019-03-26 00:39:55,561 : INFO : Epochs:21 Convergence:-5.924807583645997e-05\n"
     ]
    },
    {
     "name": "stdout",
     "output_type": "stream",
     "text": [
      "Alpha:1.1 Mean:0.837354\n"
     ]
    },
    {
     "name": "stderr",
     "output_type": "stream",
     "text": [
      "2019-03-26 00:40:06,046 : INFO : measuring the recall@10 from the new model\n",
      "2019-03-26 00:42:23,887 : INFO : mean recall@10: 0.00540191589791025\n",
      "2019-03-26 00:42:23,889 : INFO : initialize recommendation model MFRecommender with MappedUserFactorFading\n",
      "2019-03-26 00:42:23,892 : INFO : batch pre-training before streaming input\n",
      "2019-03-26 00:45:43,357 : INFO : 12888 : Epochs:21 Convergence:-6.080994486101776e-05\n",
      "2019-03-26 00:45:43,357 : INFO : Epochs:21 Convergence:-6.080994486101776e-05\n"
     ]
    },
    {
     "name": "stdout",
     "output_type": "stream",
     "text": [
      "Alpha:10 Mean:0.843952\n"
     ]
    },
    {
     "name": "stderr",
     "output_type": "stream",
     "text": [
      "2019-03-26 00:45:53,864 : INFO : measuring the recall@10 from the new model\n",
      "2019-03-26 00:48:18,227 : INFO : mean recall@10: 0.004639927027384189\n",
      "2019-03-26 00:48:18,228 : INFO : initialize recommendation model MFRecommender with MappedUserFactorFading\n",
      "2019-03-26 00:48:18,230 : INFO : batch pre-training before streaming input\n",
      "2019-03-26 00:51:39,483 : INFO : 12888 : Epochs:21 Convergence:-5.8081987930891366e-05\n",
      "2019-03-26 00:51:39,483 : INFO : Epochs:21 Convergence:-5.8081987930891366e-05\n"
     ]
    },
    {
     "name": "stdout",
     "output_type": "stream",
     "text": [
      "Alpha:100 Mean:0.840896\n"
     ]
    },
    {
     "name": "stderr",
     "output_type": "stream",
     "text": [
      "2019-03-26 00:51:49,955 : INFO : measuring the recall@10 from the new model\n",
      "2019-03-26 00:54:15,355 : INFO : mean recall@10: 0.005444343465084473\n",
      "2019-03-26 00:54:15,358 : INFO : initialize recommendation model MFRecommender with MappedUserFactorFading\n",
      "2019-03-26 00:54:15,360 : INFO : batch pre-training before streaming input\n",
      "2019-03-26 00:57:37,834 : INFO : 12888 : Epochs:21 Convergence:-5.752785584467457e-05\n",
      "2019-03-26 00:57:37,834 : INFO : Epochs:21 Convergence:-5.752785584467457e-05\n"
     ]
    },
    {
     "name": "stdout",
     "output_type": "stream",
     "text": [
      "Alpha:1000 Mean:0.847992\n"
     ]
    },
    {
     "name": "stderr",
     "output_type": "stream",
     "text": [
      "2019-03-26 00:57:48,473 : INFO : measuring the recall@10 from the new model\n",
      "2019-03-26 01:00:12,081 : INFO : mean recall@10: 0.00532615274420061\n",
      "2019-03-26 01:00:12,082 : INFO : initialize recommendation model MFRecommender with MappedUserFactorFading\n",
      "2019-03-26 01:00:12,096 : INFO : batch pre-training before streaming input\n",
      "2019-03-26 01:03:32,843 : INFO : 12888 : Epochs:21 Convergence:-5.732356615140155e-05\n",
      "2019-03-26 01:03:32,843 : INFO : Epochs:21 Convergence:-5.732356615140155e-05\n"
     ]
    },
    {
     "name": "stdout",
     "output_type": "stream",
     "text": [
      "Alpha:10000 Mean:0.844217\n"
     ]
    },
    {
     "name": "stderr",
     "output_type": "stream",
     "text": [
      "2019-03-26 01:03:43,273 : INFO : measuring the recall@10 from the new model\n",
      "2019-03-26 01:06:05,995 : INFO : mean recall@10: 0.005110515056788937\n",
      "2019-03-26 01:06:06,008 : INFO : incrementally predict, evaluate and update the recommender\n",
      "2019-03-26 01:06:06,008 : INFO : Recommender: MFRecommender, Forgetting: NoForgetting, Alpha: None, Mean Recall: 0.001306\n",
      "2019-03-26 01:06:06,009 : INFO : Recommender: MFRecommender, Forgetting: SDUserFactorFading, Alpha: 10000, Mean Recall: 0.002903\n",
      "2019-03-26 01:06:06,009 : INFO : Recommender: MFRecommender, Forgetting: ForgetUnpopularItems, Alpha: 100, Mean Recall: 0.001330\n",
      "2019-03-26 01:06:06,009 : INFO : Recommender: MFRecommender, Forgetting: UserFactorFading, Alpha: 0.8, Mean Recall: 0.005833\n",
      "2019-03-26 01:06:06,010 : INFO : Recommender: MFRecommender, Forgetting: MappedUserFactorFading, Alpha: 100, Mean Recall: 0.005444\n"
     ]
    }
   ],
   "source": [
    "experiments = {}\n",
    "for f in experimenter.forgetting_list():\n",
    "    experiments[f] = {}\n",
    "    experiments[f]['mean_recall'] = 0.0\n",
    "\n",
    "for rec in experimenter:\n",
    "    forgetting = rec.forgetting.__class__.__name__\n",
    "    logging.info('initialize recommendation model {} with {}'.format(rec.__class__.__name__, forgetting))\n",
    "    rec.initialize()\n",
    "    evaluator = Evaluator(rec, data.can_repeat)\n",
    "\n",
    "    n_batch_train = int(data.n_sample * 0.2)  # 20% for pre-training to avoid cold-start\n",
    "    n_batch_test = int(data.n_sample * 0.3)  # 30% for evaluation of pre-training\n",
    "    batch_tail = n_batch_train + n_batch_test\n",
    "\n",
    "    # pre-train\n",
    "    # 20% for batch training \n",
    "    batch_training = data.samples[:n_batch_train] \n",
    "    # 30% for batch evaluate\n",
    "    batch_test = data.samples[n_batch_train:batch_tail]\n",
    "    # after the batch training, 30% samples are used for incremental updating\n",
    "    \n",
    "    logging.info('batch pre-training before streaming input')\n",
    "    evaluator.fit(\n",
    "        batch_training,\n",
    "        batch_test,\n",
    "        max_n_epoch=20 \n",
    "    )\n",
    "    \n",
    "    recall = Recall(RECALL_AT)\n",
    "    \n",
    "    recommendations = evaluator.recommend(batch_test)\n",
    "    logging.info('measuring the recall@{} from the new model'.format(RECALL_AT))\n",
    "    # (top-1 score, rank, recommend_time)\n",
    "    for _, rank, _ in recommendations:\n",
    "        recall.update(rank)\n",
    "    mean = recall.mean() \n",
    "    logging.info('mean recall@{}: {}'.format(RECALL_AT,mean))\n",
    "    if mean > experiments[forgetting]['mean_recall']:\n",
    "        experiments[forgetting]['mean_recall'] = mean\n",
    "        experiments[forgetting]['evaluator'] = evaluator.evaluate(data.samples[batch_tail:])\n",
    "        experiments[forgetting]['recommender'] = rec.__class__.__name__\n",
    "        experiments[forgetting]['alpha'] = rec.forgetting.alpha\n",
    "        \n",
    "\n",
    "# 50% incremental evaluation and updating\n",
    "logging.info('incrementally predict, evaluate and update the recommender')    \n",
    "for forgetting in experiments:\n",
    "    logging.info('Recommender: {0}, Forgetting: {1}, Alpha: {2}, Mean Recall: {3:2f}'.format(\n",
    "        experiments[forgetting]['recommender'],\n",
    "        forgetting,\n",
    "        experiments[forgetting]['alpha'],\n",
    "        experiments[forgetting]['mean_recall']\n",
    "    ))"
   ]
  },
  {
   "cell_type": "code",
   "execution_count": 6,
   "metadata": {},
   "outputs": [
    {
     "name": "stderr",
     "output_type": "stream",
     "text": [
      "2019-03-26 01:06:06,018 : INFO : Abrindo arquivo D:\\recsys\\flurs\\results\\MFRecommender_NoForgetting_None_M2.dat ...\n",
      "2019-03-26 01:06:06,027 : INFO : Começando a gerar resultados ...\n",
      "2019-03-26 01:11:26,565 : INFO : Arquivo D:\\recsys\\flurs\\results\\MFRecommender_NoForgetting_None_M2.dat completo.\n",
      "2019-03-26 01:11:26,567 : INFO : Abrindo arquivo D:\\recsys\\flurs\\results\\MFRecommender_SDUserFactorFading_10000_M2.dat ...\n",
      "2019-03-26 01:11:26,568 : INFO : Começando a gerar resultados ...\n",
      "2019-03-26 01:16:53,842 : INFO : Arquivo D:\\recsys\\flurs\\results\\MFRecommender_SDUserFactorFading_10000_M2.dat completo.\n",
      "2019-03-26 01:16:53,843 : INFO : Abrindo arquivo D:\\recsys\\flurs\\results\\MFRecommender_ForgetUnpopularItems_100_M2.dat ...\n",
      "2019-03-26 01:16:53,844 : INFO : Começando a gerar resultados ...\n",
      "2019-03-26 01:22:19,007 : INFO : Arquivo D:\\recsys\\flurs\\results\\MFRecommender_ForgetUnpopularItems_100_M2.dat completo.\n",
      "2019-03-26 01:22:19,008 : INFO : Abrindo arquivo D:\\recsys\\flurs\\results\\MFRecommender_UserFactorFading_0.8_M2.dat ...\n",
      "2019-03-26 01:22:19,009 : INFO : Começando a gerar resultados ...\n",
      "2019-03-26 01:27:38,998 : INFO : Arquivo D:\\recsys\\flurs\\results\\MFRecommender_UserFactorFading_0.8_M2.dat completo.\n",
      "2019-03-26 01:27:38,999 : INFO : Abrindo arquivo D:\\recsys\\flurs\\results\\MFRecommender_MappedUserFactorFading_100_M2.dat ...\n",
      "2019-03-26 01:27:39,000 : INFO : Começando a gerar resultados ...\n",
      "2019-03-26 01:33:12,567 : INFO : Arquivo D:\\recsys\\flurs\\results\\MFRecommender_MappedUserFactorFading_100_M2.dat completo.\n"
     ]
    }
   ],
   "source": [
    "for forgetting in experiments:\n",
    "    evaluator = experiments[forgetting]['evaluator']\n",
    "    recommender = experiments[forgetting]['recommender']\n",
    "    param = str(experiments[forgetting]['alpha'])\n",
    "    filename = \"D:\\\\recsys\\\\flurs\\\\results\\\\{}_{}_{}_{}.dat\".format(recommender, forgetting, param, EXP_NAME)\n",
    "    logging.info(\"Abrindo arquivo {} ...\".format(filename))\n",
    "    with open(filename, 'w+') as f:\n",
    "        logging.info(\"Começando a gerar resultados ...\")\n",
    "        for instance in evaluator:\n",
    "            f.write(str(instance))\n",
    "    logging.info(\"Arquivo {} completo.\".format(filename))\n",
    "    "
   ]
  }
 ],
 "metadata": {
  "kernelspec": {
   "display_name": "Python 3",
   "language": "python",
   "name": "python3"
  },
  "language_info": {
   "codemirror_mode": {
    "name": "ipython",
    "version": 3
   },
   "file_extension": ".py",
   "mimetype": "text/x-python",
   "name": "python",
   "nbconvert_exporter": "python",
   "pygments_lexer": "ipython3",
   "version": "3.6.8"
  }
 },
 "nbformat": 4,
 "nbformat_minor": 2
}
