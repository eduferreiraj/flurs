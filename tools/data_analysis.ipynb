{
 "cells": [
  {
   "cell_type": "code",
   "execution_count": 1,
   "metadata": {},
   "outputs": [],
   "source": [
    "import matplotlib.pyplot as plt\n",
    "import pandas as pd\n",
    "%matplotlib inline\n",
    "\n",
    "experiment_name = \"M2\"\n",
    "__RECALLAT__ = 10"
   ]
  },
  {
   "cell_type": "code",
   "execution_count": 2,
   "metadata": {},
   "outputs": [],
   "source": [
    "class Experimenter:\n",
    "    def __init__(self, experiment_name):\n",
    "        self._files = []\n",
    "        self.experiment_name = experiment_name\n",
    "    def append(self, recommender_list, forgetting_list, parameters_list):\n",
    "        for r in recommender_list:\n",
    "            for p in parameters_list:\n",
    "                for f in forgetting_list:\n",
    "                    self._files.append(\"{}_{}_{}_{}.dat\".format(r, f, p, self.experiment_name))\n",
    "    def __getitem__(self, position):\n",
    "        return self._files[position]"
   ]
  },
  {
   "cell_type": "code",
   "execution_count": 3,
   "metadata": {},
   "outputs": [],
   "source": [
    "experimenter = Experimenter(experiment_name)\n",
    "recommender_list = [\"MFRecommender\"]\n",
    "experimenter.append(recommender_list, [\"ForgetUnpopularItems\"], [1.2])\n",
    "# experimenter.append(recommender_list, [\"NoForgetting\"], [None])\n",
    "# experimenter.append(recommender_list, [\"UserFactorFading\"], [0.99])\n",
    "# experimenter.append(recommender_list, [\"SDUserFactorFading\"], [1.08])\n",
    "# experimenter.append(recommender_list, [\"MappedUserFactorFading\"], [1, 1.1, 1.2, 1.3, 1.4, 1.5, 1.6])"
   ]
  },
  {
   "cell_type": "code",
   "execution_count": 4,
   "metadata": {},
   "outputs": [],
   "source": [
    "class Recall:\n",
    "    def __init__(self, n):\n",
    "        self.n = n\n",
    "        self.hits = 0\n",
    "        self.stream = 0 \n",
    "    def update(self, rank):\n",
    "        if rank <= self.n:\n",
    "            self.hits += 1\n",
    "        self.stream += 1\n",
    "        return self.score()\n",
    "    def score(self):\n",
    "        return self.hits/self.stream\n",
    "    \n",
    "class Position:\n",
    "    def update(self, rank):\n",
    "        print(rank)\n",
    "        return (1002 - rank)/1001"
   ]
  },
  {
   "cell_type": "code",
   "execution_count": 5,
   "metadata": {},
   "outputs": [],
   "source": [
    "# (top-1 score, where the correct item is ranked, rec time, update time)\n",
    "\n",
    "defined = False\n",
    "recallDF = None\n",
    "uptimeDF = None\n",
    "rectimeDF = None\n",
    "for file in experimenter:\n",
    "    metric = Recall(__RECALLAT__)\n",
    "    with open(\"D:\\\\recsys\\\\flurs\\\\results\\\\{}\".format(file)) as f:\n",
    "        file = file.replace('.dat','')\n",
    "        file = file.replace('Recommender_','/')\n",
    "        data = f.read().split(')')\n",
    "        data.remove('')\n",
    "        recallList = []\n",
    "        uptimeList = []\n",
    "        rectimeList = []\n",
    "        indexList = []\n",
    "        for index, line in enumerate(data):\n",
    "            line = line.replace('(','')\n",
    "            line = line.replace(' ','')\n",
    "            info = line.split(',')\n",
    "            recallList.append(metric.update(int(info[1])))\n",
    "            uptimeList.append(float(info[2]))\n",
    "            rectimeList.append(float(info[3]))\n",
    "            indexList.append(index)\n",
    "        if defined:\n",
    "            recallDF = recallDF.merge(pd.DataFrame({file : recallList, \"Index\": indexList}), on='Index', how='left')\n",
    "            uptimeDF = uptimeDF.merge(pd.DataFrame({file : uptimeList, \"Index\": indexList}), on='Index', how='left')\n",
    "            rectimeDF = rectimeDF.merge(pd.DataFrame({file : rectimeList, \"Index\": indexList}), on='Index', how='left')\n",
    "        else:\n",
    "            defined = True\n",
    "            recallDF = pd.DataFrame({\"Index\": indexList, file : recallList})\n",
    "            uptimeDF = pd.DataFrame({\"Index\": indexList, file : uptimeList})\n",
    "            rectimeDF = pd.DataFrame({\"Index\": indexList, file : rectimeList})\n",
    "\n",
    "recallDF = recallDF.drop(columns=['Index'])\n",
    "uptimeDF = uptimeDF.drop(columns=['Index'])\n",
    "rectimeDF = rectimeDF.drop(columns=['Index'])"
   ]
  },
  {
   "cell_type": "code",
   "execution_count": 6,
   "metadata": {
    "scrolled": false
   },
   "outputs": [
    {
     "data": {
      "image/png": "[encoded data removed]",
      "text/plain": [
       "<Figure size 864x576 with 1 Axes>"
      ]
     },
     "metadata": {},
     "output_type": "display_data"
    }
   ],
   "source": [
    "plt.rcParams['figure.figsize'] = (12,8)\n",
    "with plt.style.context(('ggplot')):\n",
    "    ax = recallDF.plot(lw=2, colormap='jet', marker='.', markersize=1, title=\"MovieLens 1M\")\n",
    "    plt.ylim([0,0.05])\n",
    "    ax.set(xlabel=\"\", ylabel='Recall@{}'.format(__RECALLAT__))"
   ]
  },
  {
   "cell_type": "code",
   "execution_count": 7,
   "metadata": {},
   "outputs": [
    {
     "data": {
      "text/plain": [
       "MF/ForgetUnpopularItems_1.2_M2    0.080817\n",
       "dtype: float64"
      ]
     },
     "execution_count": 7,
     "metadata": {},
     "output_type": "execute_result"
    }
   ],
   "source": [
    "recallDF.mean()"
   ]
  }
 ],
 "metadata": {
  "kernelspec": {
   "display_name": "Python 3",
   "language": "python",
   "name": "python3"
  },
  "language_info": {
   "codemirror_mode": {
    "name": "ipython",
    "version": 3
   },
   "file_extension": ".py",
   "mimetype": "text/x-python",
   "name": "python",
   "nbconvert_exporter": "python",
   "pygments_lexer": "ipython3",
   "version": "3.7.2"
  }
 },
 "nbformat": 4,
 "nbformat_minor": 2
}
