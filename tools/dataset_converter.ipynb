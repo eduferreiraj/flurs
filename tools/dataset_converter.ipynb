{
 "cells": [
  {
   "cell_type": "markdown",
   "metadata": {},
   "source": [
    "## MovieLens"
   ]
  },
  {
   "cell_type": "code",
   "execution_count": 1,
   "metadata": {},
   "outputs": [
    {
     "name": "stdout",
     "output_type": "stream",
     "text": [
      "Reading file D:\\recsys\\datasets\\MovieLens\\ml-1m\\ratings.dat\n",
      "Sorting by timestamp\n",
      "Writing csv file\n",
      "Writing csv file with binary ratings\n"
     ]
    }
   ],
   "source": [
    "import pandas as pd\n",
    "\n",
    "path = \"D:\\\\recsys\\\\datasets\\\\MovieLens\\\\ml-1m\\\\ratings.dat\"\n",
    "output = \"D:\\\\recsys\\\\datasets\\\\MovieLens\\\\ml-1m\\\\ml-1m.csv\"\n",
    "outputOnlyPositive = \"D:\\\\recsys\\\\datasets\\\\MovieLens\\\\ml-1m\\\\ml-1m-gte.csv\"\n",
    "\n",
    "users = []\n",
    "items = []\n",
    "ratings = []\n",
    "timestamps = []\n",
    "\n",
    "print('Reading file {}'.format(path))\n",
    "with open(path, 'r') as f:\n",
    "    for index, line in enumerate(f):\n",
    "        line.replace(\" \", \"\")\n",
    "        line.replace(\"\\n\", \"\")\n",
    "        if line == \"\":\n",
    "            continue\n",
    "        user, item, rating, timestamp = line.split(\"::\")\n",
    "        users.append(int(user))\n",
    "        items.append(int(item))\n",
    "        ratings.append(int(rating))\n",
    "        timestamps.append(int(timestamp))\n",
    "    df = pd.DataFrame({\"User\": users, \"Item\": items, \"Rating\": ratings, \"Timestamp\": timestamps})\n",
    "print('Sorting by timestamp')\n",
    "df = df.sort_values(by=[\"Timestamp\"])\n",
    "\n",
    "print('Writing csv file')\n",
    "with open(output, 'w+') as f:\n",
    "    for index, row in df.iterrows():\n",
    "        f.write(\"{},{},{},{}\\n\".format(row['User'], row['Item'], row['Rating'], row['Timestamp']))\n",
    "\n",
    "print('Writing csv file with binary ratings')\n",
    "with open(outputOnlyPositive, \"w+\") as f:\n",
    "    for index, row in df.iterrows():\n",
    "            if row['Rating'] == 5:\n",
    "                f.write(\"{},{},{},{}\\n\".format(row['User'], row['Item'], 1, row['Timestamp']))\n",
    "            "
   ]
  }
 ],
 "metadata": {
  "kernelspec": {
   "display_name": "Python 3",
   "language": "python",
   "name": "python3"
  },
  "language_info": {
   "codemirror_mode": {
    "name": "ipython",
    "version": 3
   },
   "file_extension": ".py",
   "mimetype": "text/x-python",
   "name": "python",
   "nbconvert_exporter": "python",
   "pygments_lexer": "ipython3",
   "version": "3.7.2"
  }
 },
 "nbformat": 4,
 "nbformat_minor": 2
}
