{
 "cells": [
  {
   "cell_type": "code",
   "execution_count": 1,
   "metadata": {},
   "outputs": [
    {
     "name": "stderr",
     "output_type": "stream",
     "text": [
      "2019-03-10 04:22:38,746 : INFO : running D:\\Anaconda3\\envs\\recsys\\lib\\site-packages\\ipykernel_launcher.py -f C:\\Users\\Eduardo Ferreira\\AppData\\Roaming\\jupyter\\runtime\\kernel-9732bd02-f2d1-4985-85e0-a48d8ca29b74.json\n",
      "2019-03-10 04:22:38,749 : INFO : converting data into FluRS input object\n"
     ]
    }
   ],
   "source": [
    "from flurs.datasets import fetch_movielens\n",
    "from flurs.recommender import BRISMFRecommender, MFRecommender\n",
    "from flurs.forgetting import ForgetUnpopularItems, NoForgetting, UserFactorFading\n",
    "from flurs.evaluator import Evaluator\n",
    "\n",
    "import logging\n",
    "import os\n",
    "import sys\n",
    "\n",
    "ML_PATH = 'D:\\\\recsys\\\\datasets\\\\movielens\\\\ml-1m\\\\'\n",
    "\n",
    "program = os.path.basename(ML_PATH)\n",
    "logger = logging.getLogger(program)\n",
    "\n",
    "logging.basicConfig(format='%(asctime)s : %(levelname)s : %(message)s')\n",
    "logging.root.setLevel(level=logging.INFO)\n",
    "logger.info('running %s' % ' '.join(sys.argv))\n",
    "\n",
    "logging.info('converting data into FluRS input object')\n",
    "data = fetch_movielens(data_home=ML_PATH, size='1m')"
   ]
  },
  {
   "cell_type": "code",
   "execution_count": 2,
   "metadata": {},
   "outputs": [
    {
     "name": "stderr",
     "output_type": "stream",
     "text": [
      "2019-03-10 04:22:43,166 : INFO : initialize recommendation model and evaluation module\n",
      "2019-03-10 04:22:43,168 : INFO : batch pre-training before streaming input\n",
      "2019-03-10 04:22:57,378 : INFO : incrementally predict, evaluate and update the recommender\n",
      "2019-03-10 04:22:57,381 : INFO : initialize recommendation model and evaluation module\n",
      "2019-03-10 04:22:57,382 : INFO : batch pre-training before streaming input\n",
      "2019-03-10 04:23:11,180 : INFO : incrementally predict, evaluate and update the recommender\n",
      "2019-03-10 04:23:11,183 : INFO : initialize recommendation model and evaluation module\n",
      "2019-03-10 04:23:11,184 : INFO : batch pre-training before streaming input\n",
      "2019-03-10 04:23:25,840 : INFO : incrementally predict, evaluate and update the recommender\n",
      "2019-03-10 04:23:25,844 : INFO : initialize recommendation model and evaluation module\n",
      "2019-03-10 04:23:25,845 : INFO : batch pre-training before streaming input\n",
      "2019-03-10 04:23:39,971 : INFO : incrementally predict, evaluate and update the recommender\n",
      "2019-03-10 04:23:39,974 : INFO : initialize recommendation model and evaluation module\n",
      "2019-03-10 04:23:39,974 : INFO : batch pre-training before streaming input\n",
      "2019-03-10 04:23:53,300 : INFO : incrementally predict, evaluate and update the recommender\n",
      "2019-03-10 04:23:53,303 : INFO : initialize recommendation model and evaluation module\n",
      "2019-03-10 04:23:53,303 : INFO : batch pre-training before streaming input\n",
      "2019-03-10 04:24:07,664 : INFO : incrementally predict, evaluate and update the recommender\n"
     ]
    }
   ],
   "source": [
    "recommender_list = [BRISMFRecommender, MFRecommender]\n",
    "forgetting_list = [ForgetUnpopularItems()]\n",
    "experiments = []\n",
    "for Recommender in recommender_list:\n",
    "    for Forgetting in forgetting_list:\n",
    "        logging.info('initialize recommendation model and evaluation module')\n",
    "        rec = Recommender(forgetting = Forgetting)\n",
    "        rec.initialize()\n",
    "        evaluator = Evaluator(rec, data.can_repeat)\n",
    "\n",
    "        n_batch_train = int(data.n_sample * 0.2)  # 20% for pre-training to avoid cold-start\n",
    "        n_batch_test = int(data.n_sample * 0.1)  # 10% for evaluation of pre-training\n",
    "        batch_tail = n_batch_train + n_batch_test\n",
    "\n",
    "        # pre-train\n",
    "        # 20% for batch training | 10% for batch evaluate\n",
    "        # after the batch training, 10% samples are used for incremental updating\n",
    "        logging.info('batch pre-training before streaming input')\n",
    "        evaluator.fit(\n",
    "            data.samples[:n_batch_train],\n",
    "            data.samples[n_batch_train:batch_tail],\n",
    "            n_epoch=1  # single pass even for batch training\n",
    "        )\n",
    "        \n",
    "        # 70% incremental evaluation and updating\n",
    "        logging.info('incrementally predict, evaluate and update the recommender')\n",
    "        experiments.append((evaluator.evaluate(data.samples[batch_tail:]), Recommender, Forgetting))"
   ]
  },
  {
   "cell_type": "code",
   "execution_count": 3,
   "metadata": {},
   "outputs": [
    {
     "name": "stdout",
     "output_type": "stream",
     "text": [
      "Abrindo arquivo D:\\recsys\\flurs\\results\\BRISMFRecommender_ForgetUnpopularItems.dat ...\n",
      "Começando geração de resultados ...\n",
      "Arquivo D:\\recsys\\flurs\\results\\BRISMFRecommender_ForgetUnpopularItems.dat completo.\n",
      "Abrindo arquivo D:\\recsys\\flurs\\results\\BRISMFRecommender_NoForgetting.dat ...\n",
      "Começando geração de resultados ...\n",
      "Arquivo D:\\recsys\\flurs\\results\\BRISMFRecommender_NoForgetting.dat completo.\n",
      "Abrindo arquivo D:\\recsys\\flurs\\results\\BRISMFRecommender_UserFactorFading.dat ...\n",
      "Começando geração de resultados ...\n",
      "Arquivo D:\\recsys\\flurs\\results\\BRISMFRecommender_UserFactorFading.dat completo.\n",
      "Abrindo arquivo D:\\recsys\\flurs\\results\\MFRecommender_ForgetUnpopularItems.dat ...\n",
      "Começando geração de resultados ...\n",
      "Arquivo D:\\recsys\\flurs\\results\\MFRecommender_ForgetUnpopularItems.dat completo.\n",
      "Abrindo arquivo D:\\recsys\\flurs\\results\\MFRecommender_NoForgetting.dat ...\n",
      "Começando geração de resultados ...\n",
      "Arquivo D:\\recsys\\flurs\\results\\MFRecommender_NoForgetting.dat completo.\n",
      "Abrindo arquivo D:\\recsys\\flurs\\results\\MFRecommender_UserFactorFading.dat ...\n",
      "Começando geração de resultados ...\n",
      "Arquivo D:\\recsys\\flurs\\results\\MFRecommender_UserFactorFading.dat completo.\n"
     ]
    }
   ],
   "source": [
    "for evaluator, recommender, forgetting in experiments:\n",
    "    filename = \"D:\\\\recsys\\\\flurs\\\\results\\\\{}_{}.dat\".format(recommender.__name__, forgetting.__class__.__name__)\n",
    "    print(\"Abrindo arquivo {} ...\".format(filename))\n",
    "    f = open(filename, 'w+')\n",
    "    print(\"Começando geração de resultados ...\")\n",
    "    for instance in evaluator:\n",
    "        f.write(str(instance))\n",
    "    f.close()\n",
    "    print(\"Arquivo {} completo.\".format(filename))\n",
    "    "
   ]
  }
 ],
 "metadata": {
  "kernelspec": {
   "display_name": "Python 3",
   "language": "python",
   "name": "python3"
  },
  "language_info": {
   "codemirror_mode": {
    "name": "ipython",
    "version": 3
   },
   "file_extension": ".py",
   "mimetype": "text/x-python",
   "name": "python",
   "nbconvert_exporter": "python",
   "pygments_lexer": "ipython3",
   "version": "3.7.2"
  }
 },
 "nbformat": 4,
 "nbformat_minor": 2
}
